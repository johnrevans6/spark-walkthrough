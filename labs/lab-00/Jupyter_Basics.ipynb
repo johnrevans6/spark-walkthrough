{
 "cells": [
  {
   "cell_type": "markdown",
   "metadata": {},
   "source": [
    "## What is Jupyter?\n",
    "Jupyter is an interative environment for running code. It's a common tool Data Scientists use to tell a story, opposed to just writing code and producing output. The labs in this repository are all organized into notebooks that are meant to guide you through the lab step-by-step, with various challenges along the way.\n",
    "\n",
    "## Basics\n",
    "Notebooks are really just json that gets rendered into a series of independently executed cells. You can execute a cell using Shift + Enter. \n",
    "\n",
    "### Try it out now \n",
    "1. Click on the cell below this one. \n",
    "2. press Shift + Enter to execute the cell."
   ]
  },
  {
   "cell_type": "code",
   "execution_count": null,
   "metadata": {},
   "outputs": [],
   "source": [
    "2 + 3"
   ]
  },
  {
   "cell_type": "markdown",
   "metadata": {},
   "source": [
    "You'll note that now the cell has a number to the left of it signaling the successful execution. While a cell is running, you'll see a * instead of a number. This is important to note since certain cells will take longer to run than others. \n",
    "\n",
    "We can also assign variables in one cell, and use them again in other cells."
   ]
  },
  {
   "cell_type": "code",
   "execution_count": null,
   "metadata": {},
   "outputs": [],
   "source": [
    "a = 2 + 3"
   ]
  },
  {
   "cell_type": "code",
   "execution_count": null,
   "metadata": {},
   "outputs": [],
   "source": [
    "b = a**2"
   ]
  },
  {
   "cell_type": "markdown",
   "metadata": {},
   "source": [
    "Ah, but something seems off here. This time, there's no output. That's because we stored everything to a variable. Assigning to variables doesn't produce output. Two options here. We can either place the output in its own cell, or we can use the print() function like we would in a standard Python script"
   ]
  },
  {
   "cell_type": "code",
   "execution_count": null,
   "metadata": {},
   "outputs": [],
   "source": [
    "b"
   ]
  },
  {
   "cell_type": "code",
   "execution_count": null,
   "metadata": {},
   "outputs": [],
   "source": [
    "print('The answer is: ', b)"
   ]
  },
  {
   "cell_type": "markdown",
   "metadata": {},
   "source": [
    "Every cell is stored in memory. That means that once a cell has been run, whatever was stored by that cell can be reused anywhere in the notebook. This can lead to confusion since we are typically used to Python code executing top-down. To make things more sane, we can reorder cells by using the up and down arrows in the the ui. \n",
    "\n",
    "## Try it now \n",
    "\n",
    "1. Executing the cells in reverse order to prove to yourself that the order of the cells doesn't matter.\n",
    "2. Change the order of the cells so that the print statement is below the variable assignment"
   ]
  },
  {
   "cell_type": "code",
   "execution_count": null,
   "metadata": {},
   "outputs": [],
   "source": [
    "print('C = ', c)"
   ]
  },
  {
   "cell_type": "code",
   "execution_count": null,
   "metadata": {},
   "outputs": [],
   "source": [
    "c = a + b"
   ]
  },
  {
   "cell_type": "markdown",
   "metadata": {},
   "source": [
    "## Longer blocks of code\n",
    "Jupyter cells also support longer blocks of code such as Classes and methods"
   ]
  },
  {
   "cell_type": "code",
   "execution_count": null,
   "metadata": {},
   "outputs": [],
   "source": [
    "class Fraction:\n",
    "    def __init__(self, num, denom):\n",
    "        self.num = num\n",
    "        self.denom = denom\n",
    "    def __str__(self):\n",
    "        return '{NUMERATOR}/{DENOMINATOR}'.format(NUMERATOR=self.num, DENOMINATOR=self.denom)"
   ]
  },
  {
   "cell_type": "code",
   "execution_count": null,
   "metadata": {},
   "outputs": [],
   "source": [
    "frac = Fraction(3, 4)\n",
    "print(frac)"
   ]
  },
  {
   "cell_type": "markdown",
   "metadata": {},
   "source": [
    "## The Kernel \n",
    "Jupyter runs a programming specific process called a Kernel. This allows Jupyter to be extended to languages beyond Python such as Java (Jython), R, and Julia. For our purposes, we may need to restart the Kernel when our processing gets stuck for some reason. From the Kernel section of the menu, it's possible to interrupt, restart, and reconnect, and shutdown the Kernel. Note, that restarting the Kernel will clear all the cells from main memory, so you'll need to re"
   ]
  },
  {
   "cell_type": "markdown",
   "metadata": {},
   "source": [
    "## Try it Now\n",
    "1. Run the below cell\n",
    "2. In the menu, click Kernel > Restart and Clear Outputs\n",
    "\n",
    "The Kernel will cease its execution and throw a \"KeyboardInterrupt\" error"
   ]
  },
  {
   "cell_type": "code",
   "execution_count": null,
   "metadata": {},
   "outputs": [],
   "source": [
    "while True:\n",
    "    print(\"\"\" \n",
    "      _____     ____\n",
    "     /      \\  |  o | \n",
    "    |        |/ ___\\| \n",
    "    |_________/     \n",
    "    |_|_| |_|_|\"\"\")"
   ]
  },
  {
   "cell_type": "markdown",
   "metadata": {},
   "source": [
    "## Saving your notebook\n",
    "One nice thing about Jupyter is that it regularly checkpoints the notebook, so there is generally no need to save. That being said, clicking the save icon in the menu will force a checkpoint of the notebook. There is also the option to export a notebook as a .py file that you can run as a stand alone file."
   ]
  },
  {
   "cell_type": "markdown",
   "metadata": {},
   "source": [
    "## Try It Now\n",
    "1. Click File > Download as > Python (.py)\n",
    "2. In VSCode, navigate to lab-00"
   ]
  }
 ],
 "metadata": {
  "kernelspec": {
   "display_name": "Python 3",
   "language": "python",
   "name": "python3"
  },
  "language_info": {
   "codemirror_mode": {
    "name": "ipython",
    "version": 3
   },
   "file_extension": ".py",
   "mimetype": "text/x-python",
   "name": "python",
   "nbconvert_exporter": "python",
   "pygments_lexer": "ipython3",
   "version": "3.6.7"
  }
 },
 "nbformat": 4,
 "nbformat_minor": 2
}
